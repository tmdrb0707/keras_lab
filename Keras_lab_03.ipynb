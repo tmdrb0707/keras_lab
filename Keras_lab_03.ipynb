{
 "cells": [
  {
   "cell_type": "code",
   "execution_count": 9,
   "metadata": {},
   "outputs": [],
   "source": [
    "from PIL import Image\n",
    "import matplotlib.pyplot as plt\n",
    "from keras.datasets import mnist\n",
    "(train_images, train_labels), (test_images, test_labels) = mnist.load_data()\n",
    "train_images = train_images.reshape((60000, 28 * 28))\n",
    "train_images = train_images.astype(\"float32\") / 255\n",
    "\n",
    "test_images = test_images.reshape((10000, 28 * 28))\n",
    "test_images = test_images.astype(\"float32\") / 255\n",
    "\n",
    "from keras.utils import to_categorical\n",
    "\n",
    "train_labels = to_categorical(train_labels)\n",
    "test_labels = to_categorical(test_labels)"
   ]
  },
  {
   "cell_type": "markdown",
   "metadata": {},
   "source": [
    "## 3. 신경망 시작하기\n",
    "\n",
    "앞 절에서 배웠던 개념들을 활용하여 신경망을 직접 구현해보도록 합니다(필요한 부분의 챕터 위주로 작성합니다).  \n",
    "이번절에서는 **이진분류, 다중분류, 회귀**에 대하여 실제 예제를 다룹니다."
   ]
  },
  {
   "cell_type": "markdown",
   "metadata": {},
   "source": [
    "<hr/>\n",
    "\n",
    "모델을 정의하는 방법은 두가지 입니다.\n",
    "Sequential 클래스와 함수형 API입니다.  \n",
    "\n",
    "먼저 Sequential 클래스를 사용한 방법부터 살펴봅니다."
   ]
  },
  {
   "cell_type": "code",
   "execution_count": 2,
   "metadata": {},
   "outputs": [],
   "source": [
    "from keras import models\n",
    "from keras import layers\n",
    "\n",
    "model = models.Sequential()\n",
    "model.add(layers.Dense(32, activation = 'relu', input_shape = (784,)))\n",
    "model.add(layers.Dense(10, activation = 'softmax'))"
   ]
  },
  {
   "cell_type": "markdown",
   "metadata": {},
   "source": [
    "같은 모델을 함수형 API를 사용하여 만들어 봅니다."
   ]
  },
  {
   "cell_type": "code",
   "execution_count": 3,
   "metadata": {},
   "outputs": [],
   "source": [
    "input_tensor = layers.Input(shape = (784,))\n",
    "x = layers.Dense(32, activation = 'relu')(input_tensor)\n",
    "output_tensor = layers.Dense(10, activation = 'softmax')(x)"
   ]
  },
  {
   "cell_type": "markdown",
   "metadata": {},
   "source": [
    "함수형 API를 사용하면 모델이 처리할 데이터 텐서를 만들고 함수처럼 이 텐서에 층을 적용하는 구조입니다.  \n",
    "(자세한 가이드는 7장부터 다루도록 합니다)  \n",
    "모델 구조가 정의된 후에는 Sequential 모델이든, 함수형 API 모델이든 이후의 단계는 동일합니다.\n",
    "\n",
    "컴파일 단계에서부터 학습 과정이 설정됩니다. 모델이 사용할 loss function의 구조, 오차 측정지표(mse, crossentropy 등), learning rate 등을 설정합니다."
   ]
  },
  {
   "cell_type": "code",
   "execution_count": 5,
   "metadata": {},
   "outputs": [],
   "source": [
    "from keras import optimizers\n",
    "\n",
    "model.compile(optimizer = optimizers.RMSprop(lr = 0.001),\n",
    "              loss = 'mse',\n",
    "              metrics = ['accuracy'])"
   ]
  },
  {
   "cell_type": "markdown",
   "metadata": {},
   "source": [
    "마지막으로 입력 데이터의 넘파이 배열 모델의 fit() 메서드에 전달함으로써 학습 과정이 이루어집니다."
   ]
  },
  {
   "cell_type": "code",
   "execution_count": 10,
   "metadata": {},
   "outputs": [
    {
     "name": "stdout",
     "output_type": "stream",
     "text": [
      "Epoch 1/10\n",
      "60000/60000 [==============================] - 3s 52us/step - loss: 0.0200 - acc: 0.8769\n",
      "Epoch 2/10\n",
      "60000/60000 [==============================] - 3s 47us/step - loss: 0.0108 - acc: 0.9318\n",
      "Epoch 3/10\n",
      "60000/60000 [==============================] - 3s 43us/step - loss: 0.0089 - acc: 0.9430\n",
      "Epoch 4/10\n",
      "60000/60000 [==============================] - 2s 35us/step - loss: 0.0078 - acc: 0.9510\n",
      "Epoch 5/10\n",
      "60000/60000 [==============================] - 2s 31us/step - loss: 0.0071 - acc: 0.9557\n",
      "Epoch 6/10\n",
      "60000/60000 [==============================] - 2s 32us/step - loss: 0.0065 - acc: 0.9587\n",
      "Epoch 7/10\n",
      "60000/60000 [==============================] - 2s 32us/step - loss: 0.0060 - acc: 0.9618\n",
      "Epoch 8/10\n",
      "60000/60000 [==============================] - 2s 32us/step - loss: 0.0056 - acc: 0.9648\n",
      "Epoch 9/10\n",
      "60000/60000 [==============================] - 2s 32us/step - loss: 0.0054 - acc: 0.9668\n",
      "Epoch 10/10\n",
      "60000/60000 [==============================] - 2s 33us/step - loss: 0.0050 - acc: 0.9684\n"
     ]
    },
    {
     "data": {
      "text/plain": [
       "<keras.callbacks.History at 0x19a2092cef0>"
      ]
     },
     "execution_count": 10,
     "metadata": {},
     "output_type": "execute_result"
    }
   ],
   "source": [
    "model.fit(train_images, train_labels, batch_size = 128, epochs = 10)"
   ]
  },
  {
   "cell_type": "markdown",
   "metadata": {},
   "source": [
    "### 3.4 영화 리뷰 분류: 이진 분류 예제\n",
    "\n",
    "리뷰 텍스트를 기반으로 영화 리뷰를 긍정과 부정으로 분류하는 방법을 다루도록 합니다.  \n",
    "영화 리뷰 5만개로 이루어진 IMDB 데이터셋을 이용하여 실습을 시작합니다.  \n",
    "이 데이터셋은 훈련 데이터 25,000개 테스트 데이터 25,000개로 구성되어있고 각각 50%의 부정, 50%의 긍정 리뷰로 구성되어 있습니다."
   ]
  },
  {
   "cell_type": "code",
   "execution_count": 12,
   "metadata": {},
   "outputs": [
    {
     "name": "stdout",
     "output_type": "stream",
     "text": [
      "Downloading data from https://s3.amazonaws.com/text-datasets/imdb.npz\n",
      "17465344/17464789 [==============================] - 12s 1us/step\n"
     ]
    }
   ],
   "source": [
    "from keras.datasets import imdb\n",
    "\n",
    "(train_data, train_labels), (test_data, test_labels) = imdb.load_data(num_words = 10000)\n",
    "# nun_words = 10000은 훈련 데이터에서 가장 자주 나타나는 단어 1만개를 사용하겠다는 의미"
   ]
  },
  {
   "cell_type": "code",
   "execution_count": 26,
   "metadata": {},
   "outputs": [
    {
     "data": {
      "text/plain": [
       "[1,\n",
       " 14,\n",
       " 22,\n",
       " 16,\n",
       " 43,\n",
       " 530,\n",
       " 973,\n",
       " 1622,\n",
       " 1385,\n",
       " 65,\n",
       " 458,\n",
       " 4468,\n",
       " 66,\n",
       " 3941,\n",
       " 4,\n",
       " 173,\n",
       " 36,\n",
       " 256,\n",
       " 5,\n",
       " 25,\n",
       " 100,\n",
       " 43,\n",
       " 838,\n",
       " 112,\n",
       " 50,\n",
       " 670,\n",
       " 2,\n",
       " 9,\n",
       " 35,\n",
       " 480,\n",
       " 284,\n",
       " 5,\n",
       " 150,\n",
       " 4,\n",
       " 172,\n",
       " 112,\n",
       " 167,\n",
       " 2,\n",
       " 336,\n",
       " 385,\n",
       " 39,\n",
       " 4,\n",
       " 172,\n",
       " 4536,\n",
       " 1111,\n",
       " 17,\n",
       " 546,\n",
       " 38,\n",
       " 13,\n",
       " 447,\n",
       " 4,\n",
       " 192,\n",
       " 50,\n",
       " 16,\n",
       " 6,\n",
       " 147,\n",
       " 2025,\n",
       " 19,\n",
       " 14,\n",
       " 22,\n",
       " 4,\n",
       " 1920,\n",
       " 4613,\n",
       " 469,\n",
       " 4,\n",
       " 22,\n",
       " 71,\n",
       " 87,\n",
       " 12,\n",
       " 16,\n",
       " 43,\n",
       " 530,\n",
       " 38,\n",
       " 76,\n",
       " 15,\n",
       " 13,\n",
       " 1247,\n",
       " 4,\n",
       " 22,\n",
       " 17,\n",
       " 515,\n",
       " 17,\n",
       " 12,\n",
       " 16,\n",
       " 626,\n",
       " 18,\n",
       " 2,\n",
       " 5,\n",
       " 62,\n",
       " 386,\n",
       " 12,\n",
       " 8,\n",
       " 316,\n",
       " 8,\n",
       " 106,\n",
       " 5,\n",
       " 4,\n",
       " 2223,\n",
       " 5244,\n",
       " 16,\n",
       " 480,\n",
       " 66,\n",
       " 3785,\n",
       " 33,\n",
       " 4,\n",
       " 130,\n",
       " 12,\n",
       " 16,\n",
       " 38,\n",
       " 619,\n",
       " 5,\n",
       " 25,\n",
       " 124,\n",
       " 51,\n",
       " 36,\n",
       " 135,\n",
       " 48,\n",
       " 25,\n",
       " 1415,\n",
       " 33,\n",
       " 6,\n",
       " 22,\n",
       " 12,\n",
       " 215,\n",
       " 28,\n",
       " 77,\n",
       " 52,\n",
       " 5,\n",
       " 14,\n",
       " 407,\n",
       " 16,\n",
       " 82,\n",
       " 2,\n",
       " 8,\n",
       " 4,\n",
       " 107,\n",
       " 117,\n",
       " 5952,\n",
       " 15,\n",
       " 256,\n",
       " 4,\n",
       " 2,\n",
       " 7,\n",
       " 3766,\n",
       " 5,\n",
       " 723,\n",
       " 36,\n",
       " 71,\n",
       " 43,\n",
       " 530,\n",
       " 476,\n",
       " 26,\n",
       " 400,\n",
       " 317,\n",
       " 46,\n",
       " 7,\n",
       " 4,\n",
       " 2,\n",
       " 1029,\n",
       " 13,\n",
       " 104,\n",
       " 88,\n",
       " 4,\n",
       " 381,\n",
       " 15,\n",
       " 297,\n",
       " 98,\n",
       " 32,\n",
       " 2071,\n",
       " 56,\n",
       " 26,\n",
       " 141,\n",
       " 6,\n",
       " 194,\n",
       " 7486,\n",
       " 18,\n",
       " 4,\n",
       " 226,\n",
       " 22,\n",
       " 21,\n",
       " 134,\n",
       " 476,\n",
       " 26,\n",
       " 480,\n",
       " 5,\n",
       " 144,\n",
       " 30,\n",
       " 5535,\n",
       " 18,\n",
       " 51,\n",
       " 36,\n",
       " 28,\n",
       " 224,\n",
       " 92,\n",
       " 25,\n",
       " 104,\n",
       " 4,\n",
       " 226,\n",
       " 65,\n",
       " 16,\n",
       " 38,\n",
       " 1334,\n",
       " 88,\n",
       " 12,\n",
       " 16,\n",
       " 283,\n",
       " 5,\n",
       " 16,\n",
       " 4472,\n",
       " 113,\n",
       " 103,\n",
       " 32,\n",
       " 15,\n",
       " 16,\n",
       " 5345,\n",
       " 19,\n",
       " 178,\n",
       " 32]"
      ]
     },
     "execution_count": 26,
     "metadata": {},
     "output_type": "execute_result"
    }
   ],
   "source": [
    "train_data[0]"
   ]
  },
  {
   "cell_type": "markdown",
   "metadata": {},
   "source": [
    "입력 데이터가 리스트 형식으로 되어있습니다. 신경망에는 리스트 타입을 입력값으로 받을 수 없습니다. 따라서 이를 텐서로 바꾸도록 하겠습니다.  \n",
    "텐서로 바꾸는 방법중 하나는 원-핫 인코딩(one-hot encoding)이 있습니다. 이 방법을 활용하여 변환 하도록 합니다."
   ]
  },
  {
   "cell_type": "code",
   "execution_count": 49,
   "metadata": {},
   "outputs": [],
   "source": [
    "import numpy as np\n",
    "\n",
    "def vectorize_sequences(sequences, dimension = 10000):\n",
    "    results = np.zeros((len(sequences), dimension))\n",
    "    for i, sequence in enumerate(sequences):\n",
    "        results[i, sequence] = 1.\n",
    "    return results\n",
    "\n",
    "x_train = vectorize_sequences(train_data)\n",
    "x_test = vectorize_sequences(test_data)"
   ]
  },
  {
   "cell_type": "code",
   "execution_count": 61,
   "metadata": {},
   "outputs": [],
   "source": [
    "y_train = np.asarray(train_labels).astype(\"float32\")\n",
    "y_test = np.asarray(test_labels).astype(\"float32\")"
   ]
  },
  {
   "cell_type": "markdown",
   "metadata": {},
   "source": [
    "정답 레이블의 데이터 타입을 입력 데이터 타입과 동일하게 하기위해 float32로 변경하였습니다.  \n",
    "이제 신경망에 입력될 데이터는 모두 준비가 되었습니다.  \n",
    "케라스 구현은 이전에 다루었던 MNIST 예제와 비슷합니다."
   ]
  },
  {
   "cell_type": "code",
   "execution_count": 68,
   "metadata": {},
   "outputs": [],
   "source": [
    "model = models.Sequential()\n",
    "model.add(layers.Dense(16, activation = 'relu', input_shape = (10000,)))\n",
    "model.add(layers.Dense(16, activation = 'relu'))\n",
    "model.add(layers.Dense(1, activation = 'sigmoid'))\n",
    "model.compile(optimizer = optimizers.RMSprop(lr = 0.001),\n",
    "              loss = 'binary_crossentropy',\n",
    "              metrics = ['accuracy'])"
   ]
  },
  {
   "cell_type": "markdown",
   "metadata": {},
   "source": [
    "이제 테스트 데이터에서 10,000개의 검증데이터를 떼어 냅니다"
   ]
  },
  {
   "cell_type": "code",
   "execution_count": 70,
   "metadata": {},
   "outputs": [],
   "source": [
    "x_val = x_train[:10000]\n",
    "partial_x_train = x_train[10000:]\n",
    "y_val = y_train[:10000]\n",
    "partial_y_train = y_train[10000:]"
   ]
  },
  {
   "cell_type": "code",
   "execution_count": 71,
   "metadata": {},
   "outputs": [
    {
     "name": "stdout",
     "output_type": "stream",
     "text": [
      "Train on 15000 samples, validate on 10000 samples\n",
      "Epoch 1/20\n",
      "15000/15000 [==============================] - 9s 594us/step - loss: 0.5389 - acc: 0.7747 - val_loss: 0.3998 - val_acc: 0.8689\n",
      "Epoch 2/20\n",
      "15000/15000 [==============================] - 5s 308us/step - loss: 0.3209 - acc: 0.8990 - val_loss: 0.3288 - val_acc: 0.8715\n",
      "Epoch 3/20\n",
      "15000/15000 [==============================] - 4s 264us/step - loss: 0.2359 - acc: 0.9242 - val_loss: 0.2873 - val_acc: 0.8867\n",
      "Epoch 4/20\n",
      "15000/15000 [==============================] - 4s 257us/step - loss: 0.1853 - acc: 0.9390 - val_loss: 0.2745 - val_acc: 0.8906\n",
      "Epoch 5/20\n",
      "15000/15000 [==============================] - 4s 262us/step - loss: 0.1532 - acc: 0.9512 - val_loss: 0.2989 - val_acc: 0.8808\n",
      "Epoch 6/20\n",
      "15000/15000 [==============================] - 4s 263us/step - loss: 0.1236 - acc: 0.9616 - val_loss: 0.2874 - val_acc: 0.8869\n",
      "Epoch 7/20\n",
      "15000/15000 [==============================] - 4s 270us/step - loss: 0.1076 - acc: 0.9662 - val_loss: 0.3030 - val_acc: 0.8839\n",
      "Epoch 8/20\n",
      "15000/15000 [==============================] - 4s 255us/step - loss: 0.0858 - acc: 0.9751 - val_loss: 0.3211 - val_acc: 0.8799\n",
      "Epoch 9/20\n",
      "15000/15000 [==============================] - 4s 252us/step - loss: 0.0694 - acc: 0.9823 - val_loss: 0.3418 - val_acc: 0.8803\n",
      "Epoch 10/20\n",
      "15000/15000 [==============================] - 4s 254us/step - loss: 0.0595 - acc: 0.9849 - val_loss: 0.3744 - val_acc: 0.8785\n",
      "Epoch 11/20\n",
      "15000/15000 [==============================] - 4s 289us/step - loss: 0.0459 - acc: 0.9901 - val_loss: 0.3952 - val_acc: 0.8737\n",
      "Epoch 12/20\n",
      "15000/15000 [==============================] - 4s 290us/step - loss: 0.0369 - acc: 0.9929 - val_loss: 0.4190 - val_acc: 0.8777\n",
      "Epoch 13/20\n",
      "15000/15000 [==============================] - 4s 256us/step - loss: 0.0298 - acc: 0.9945 - val_loss: 0.5676 - val_acc: 0.8582\n",
      "Epoch 14/20\n",
      "15000/15000 [==============================] - 4s 253us/step - loss: 0.0258 - acc: 0.9947 - val_loss: 0.4763 - val_acc: 0.8729\n",
      "Epoch 15/20\n",
      "15000/15000 [==============================] - 4s 289us/step - loss: 0.0158 - acc: 0.9981 - val_loss: 0.5292 - val_acc: 0.8644\n",
      "Epoch 16/20\n",
      "15000/15000 [==============================] - 4s 266us/step - loss: 0.0152 - acc: 0.9977 - val_loss: 0.5370 - val_acc: 0.8697\n",
      "Epoch 17/20\n",
      "15000/15000 [==============================] - 4s 256us/step - loss: 0.0119 - acc: 0.9985 - val_loss: 0.5678 - val_acc: 0.8682\n",
      "Epoch 18/20\n",
      "15000/15000 [==============================] - 4s 262us/step - loss: 0.0077 - acc: 0.9993 - val_loss: 0.6949 - val_acc: 0.8481\n",
      "Epoch 19/20\n",
      "15000/15000 [==============================] - 4s 261us/step - loss: 0.0056 - acc: 0.9997 - val_loss: 0.6225 - val_acc: 0.8670\n",
      "Epoch 20/20\n",
      "15000/15000 [==============================] - 4s 279us/step - loss: 0.0067 - acc: 0.9991 - val_loss: 0.6510 - val_acc: 0.8666\n"
     ]
    }
   ],
   "source": [
    "history = model.fit(partial_x_train, partial_y_train,\n",
    "                    epochs = 20,\n",
    "                    batch_size = 512,\n",
    "                    validation_data = (x_val, y_val))"
   ]
  },
  {
   "cell_type": "markdown",
   "metadata": {},
   "source": [
    "이제 훈련과 검증 데이터에 대한 손실과 정확도를 그려보면서 시각적으로 확인해보겠습니다."
   ]
  },
  {
   "cell_type": "code",
   "execution_count": 93,
   "metadata": {},
   "outputs": [
    {
     "data": {
      "image/png": "[encoded data removed]",
      "text/plain": [
       "<Figure size 432x288 with 1 Axes>"
      ]
     },
     "metadata": {},
     "output_type": "display_data"
    }
   ],
   "source": [
    "loss = history.history[\"loss\"]\n",
    "val_loss = history.history[\"val_loss\"]\n",
    "epochs = range(1, len(loss) +1)\n",
    "\n",
    "plt.plot(epochs, loss, \"bo\", label = \"Training loss\")\n",
    "plt.plot(epochs, val_loss, \"b\", label = \"Vlidation loss\")\n",
    "plt.title(\"Traning and validation loss\")\n",
    "plt.xlabel(\"Epochs\")\n",
    "plt.ylabel(\"Loss\")\n",
    "plt.legend()\n",
    "plt.show()"
   ]
  },
  {
   "cell_type": "code",
   "execution_count": 94,
   "metadata": {},
   "outputs": [
    {
     "data": {
      "image/png": "[encoded data removed]",
      "text/plain": [
       "<Figure size 432x288 with 1 Axes>"
      ]
     },
     "metadata": {},
     "output_type": "display_data"
    }
   ],
   "source": [
    "acc = history.history[\"acc\"]\n",
    "val_acc = history.history[\"val_acc\"]\n",
    "epochs = range(1, len(loss) +1)\n",
    "\n",
    "plt.plot(epochs, acc, \"bo\", label = \"Training acc\")\n",
    "plt.plot(epochs, val_acc, \"b\", label = \"Vlidation acc\")\n",
    "plt.title(\"Traning and validation Accuracy\")\n",
    "plt.xlabel(\"Epochs\")\n",
    "plt.ylabel(\"Accracy\")\n",
    "plt.legend()\n",
    "plt.show()"
   ]
  },
  {
   "cell_type": "markdown",
   "metadata": {},
   "source": [
    "에폭이 4번째에서부터는 정확도가 점점 감소하는것을 볼 수 있습니다. 이는 모델이 **과적합**했기때문에 발생하는 현상입니다.  \n",
    "따라서 4번째 에폭까지만 훈련한 모델을 사용하는것이 BEST 모델이라는 것을 알 수 있습니다."
   ]
  },
  {
   "cell_type": "code",
   "execution_count": 95,
   "metadata": {},
   "outputs": [
    {
     "name": "stdout",
     "output_type": "stream",
     "text": [
      "Train on 15000 samples, validate on 10000 samples\n",
      "Epoch 1/4\n",
      "15000/15000 [==============================] - 6s 369us/step - loss: 0.5325 - acc: 0.7917 - val_loss: 0.4058 - val_acc: 0.8699\n",
      "Epoch 2/4\n",
      "15000/15000 [==============================] - 5s 327us/step - loss: 0.3255 - acc: 0.8987 - val_loss: 0.3151 - val_acc: 0.8854\n",
      "Epoch 3/4\n",
      "15000/15000 [==============================] - 4s 259us/step - loss: 0.2355 - acc: 0.9244 - val_loss: 0.2827 - val_acc: 0.8895\n",
      "Epoch 4/4\n",
      "15000/15000 [==============================] - 4s 265us/step - loss: 0.1865 - acc: 0.9397 - val_loss: 0.2864 - val_acc: 0.8840\n",
      "25000/25000 [==============================] - 16s 650us/step\n"
     ]
    }
   ],
   "source": [
    "model = models.Sequential()\n",
    "model.add(layers.Dense(16, activation = 'relu', input_shape = (10000,)))\n",
    "model.add(layers.Dense(16, activation = 'relu'))\n",
    "model.add(layers.Dense(1, activation = 'sigmoid'))\n",
    "model.compile(optimizer = optimizers.RMSprop(lr = 0.001),\n",
    "              loss = 'binary_crossentropy',\n",
    "              metrics = ['accuracy'])\n",
    "model.fit(partial_x_train, partial_y_train,\n",
    "          epochs = 4,\n",
    "          batch_size = 512,\n",
    "          validation_data = (x_val, y_val))\n",
    "result = model.evaluate(x_test, y_test)"
   ]
  },
  {
   "cell_type": "code",
   "execution_count": 97,
   "metadata": {},
   "outputs": [
    {
     "data": {
      "text/plain": [
       "[0.30161040325164795, 0.87724]"
      ]
     },
     "execution_count": 97,
     "metadata": {},
     "output_type": "execute_result"
    }
   ],
   "source": [
    "result"
   ]
  },
  {
   "cell_type": "markdown",
   "metadata": {},
   "source": [
    "이러한 방법으로 약 87.7%의 정확도를 달성 하였습니다."
   ]
  },
  {
   "cell_type": "code",
   "execution_count": null,
   "metadata": {},
   "outputs": [],
   "source": []
  },
  {
   "cell_type": "code",
   "execution_count": null,
   "metadata": {},
   "outputs": [],
   "source": []
  }
 ],
 "metadata": {
  "kernelspec": {
   "display_name": "Python 3",
   "language": "python",
   "name": "python3"
  },
  "language_info": {
   "codemirror_mode": {
    "name": "ipython",
    "version": 3
   },
   "file_extension": ".py",
   "mimetype": "text/x-python",
   "name": "python",
   "nbconvert_exporter": "python",
   "pygments_lexer": "ipython3",
   "version": "3.6.5"
  }
 },
 "nbformat": 4,
 "nbformat_minor": 2
}
